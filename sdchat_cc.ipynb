{
  "nbformat": 4,
  "nbformat_minor": 0,
  "metadata": {
    "colab": {
      "provenance": [],
      "collapsed_sections": [
        "snl-HnH0jxVO"
      ],
      "toc_visible": true
    },
    "kernelspec": {
      "name": "python3",
      "display_name": "Python 3"
    },
    "language_info": {
      "name": "python"
    },
    "widgets": {
      "application/vnd.jupyter.widget-state+json": {
        "580ef991cd5f45b38f263077f7b416bf": {
          "model_module": "@jupyter-widgets/controls",
          "model_name": "HBoxModel",
          "model_module_version": "1.5.0",
          "state": {
            "_dom_classes": [],
            "_model_module": "@jupyter-widgets/controls",
            "_model_module_version": "1.5.0",
            "_model_name": "HBoxModel",
            "_view_count": null,
            "_view_module": "@jupyter-widgets/controls",
            "_view_module_version": "1.5.0",
            "_view_name": "HBoxView",
            "box_style": "",
            "children": [
              "IPY_MODEL_811360c6e7e9463f93e0859e5b273113",
              "IPY_MODEL_46ba14bc914e4bb097fa46b63bfeac59",
              "IPY_MODEL_e9feed09b7c743f3ac5ce61059b3b9fc"
            ],
            "layout": "IPY_MODEL_87cd7e4d919941f0b02cce94ca46447e"
          }
        },
        "811360c6e7e9463f93e0859e5b273113": {
          "model_module": "@jupyter-widgets/controls",
          "model_name": "HTMLModel",
          "model_module_version": "1.5.0",
          "state": {
            "_dom_classes": [],
            "_model_module": "@jupyter-widgets/controls",
            "_model_module_version": "1.5.0",
            "_model_name": "HTMLModel",
            "_view_count": null,
            "_view_module": "@jupyter-widgets/controls",
            "_view_module_version": "1.5.0",
            "_view_name": "HTMLView",
            "description": "",
            "description_tooltip": null,
            "layout": "IPY_MODEL_cd88023ae019417da8f18868ff61c3f7",
            "placeholder": "​",
            "style": "IPY_MODEL_3f93a71188c0423d97378b9198587077",
            "value": "Downloading (…)olve/main/vocab.json: 100%"
          }
        },
        "46ba14bc914e4bb097fa46b63bfeac59": {
          "model_module": "@jupyter-widgets/controls",
          "model_name": "FloatProgressModel",
          "model_module_version": "1.5.0",
          "state": {
            "_dom_classes": [],
            "_model_module": "@jupyter-widgets/controls",
            "_model_module_version": "1.5.0",
            "_model_name": "FloatProgressModel",
            "_view_count": null,
            "_view_module": "@jupyter-widgets/controls",
            "_view_module_version": "1.5.0",
            "_view_name": "ProgressView",
            "bar_style": "success",
            "description": "",
            "description_tooltip": null,
            "layout": "IPY_MODEL_fe62b2dbe0ab4317966557efaea50d8c",
            "max": 1042301,
            "min": 0,
            "orientation": "horizontal",
            "style": "IPY_MODEL_5fbf27db93d24079a3eaf439d97260b1",
            "value": 1042301
          }
        },
        "e9feed09b7c743f3ac5ce61059b3b9fc": {
          "model_module": "@jupyter-widgets/controls",
          "model_name": "HTMLModel",
          "model_module_version": "1.5.0",
          "state": {
            "_dom_classes": [],
            "_model_module": "@jupyter-widgets/controls",
            "_model_module_version": "1.5.0",
            "_model_name": "HTMLModel",
            "_view_count": null,
            "_view_module": "@jupyter-widgets/controls",
            "_view_module_version": "1.5.0",
            "_view_name": "HTMLView",
            "description": "",
            "description_tooltip": null,
            "layout": "IPY_MODEL_328301a15d7f4240bb118e0c58617c20",
            "placeholder": "​",
            "style": "IPY_MODEL_d2daeeeae0474a90850f52f790028986",
            "value": " 1.04M/1.04M [00:00&lt;00:00, 15.5MB/s]"
          }
        },
        "87cd7e4d919941f0b02cce94ca46447e": {
          "model_module": "@jupyter-widgets/base",
          "model_name": "LayoutModel",
          "model_module_version": "1.2.0",
          "state": {
            "_model_module": "@jupyter-widgets/base",
            "_model_module_version": "1.2.0",
            "_model_name": "LayoutModel",
            "_view_count": null,
            "_view_module": "@jupyter-widgets/base",
            "_view_module_version": "1.2.0",
            "_view_name": "LayoutView",
            "align_content": null,
            "align_items": null,
            "align_self": null,
            "border": null,
            "bottom": null,
            "display": null,
            "flex": null,
            "flex_flow": null,
            "grid_area": null,
            "grid_auto_columns": null,
            "grid_auto_flow": null,
            "grid_auto_rows": null,
            "grid_column": null,
            "grid_gap": null,
            "grid_row": null,
            "grid_template_areas": null,
            "grid_template_columns": null,
            "grid_template_rows": null,
            "height": null,
            "justify_content": null,
            "justify_items": null,
            "left": null,
            "margin": null,
            "max_height": null,
            "max_width": null,
            "min_height": null,
            "min_width": null,
            "object_fit": null,
            "object_position": null,
            "order": null,
            "overflow": null,
            "overflow_x": null,
            "overflow_y": null,
            "padding": null,
            "right": null,
            "top": null,
            "visibility": null,
            "width": null
          }
        },
        "cd88023ae019417da8f18868ff61c3f7": {
          "model_module": "@jupyter-widgets/base",
          "model_name": "LayoutModel",
          "model_module_version": "1.2.0",
          "state": {
            "_model_module": "@jupyter-widgets/base",
            "_model_module_version": "1.2.0",
            "_model_name": "LayoutModel",
            "_view_count": null,
            "_view_module": "@jupyter-widgets/base",
            "_view_module_version": "1.2.0",
            "_view_name": "LayoutView",
            "align_content": null,
            "align_items": null,
            "align_self": null,
            "border": null,
            "bottom": null,
            "display": null,
            "flex": null,
            "flex_flow": null,
            "grid_area": null,
            "grid_auto_columns": null,
            "grid_auto_flow": null,
            "grid_auto_rows": null,
            "grid_column": null,
            "grid_gap": null,
            "grid_row": null,
            "grid_template_areas": null,
            "grid_template_columns": null,
            "grid_template_rows": null,
            "height": null,
            "justify_content": null,
            "justify_items": null,
            "left": null,
            "margin": null,
            "max_height": null,
            "max_width": null,
            "min_height": null,
            "min_width": null,
            "object_fit": null,
            "object_position": null,
            "order": null,
            "overflow": null,
            "overflow_x": null,
            "overflow_y": null,
            "padding": null,
            "right": null,
            "top": null,
            "visibility": null,
            "width": null
          }
        },
        "3f93a71188c0423d97378b9198587077": {
          "model_module": "@jupyter-widgets/controls",
          "model_name": "DescriptionStyleModel",
          "model_module_version": "1.5.0",
          "state": {
            "_model_module": "@jupyter-widgets/controls",
            "_model_module_version": "1.5.0",
            "_model_name": "DescriptionStyleModel",
            "_view_count": null,
            "_view_module": "@jupyter-widgets/base",
            "_view_module_version": "1.2.0",
            "_view_name": "StyleView",
            "description_width": ""
          }
        },
        "fe62b2dbe0ab4317966557efaea50d8c": {
          "model_module": "@jupyter-widgets/base",
          "model_name": "LayoutModel",
          "model_module_version": "1.2.0",
          "state": {
            "_model_module": "@jupyter-widgets/base",
            "_model_module_version": "1.2.0",
            "_model_name": "LayoutModel",
            "_view_count": null,
            "_view_module": "@jupyter-widgets/base",
            "_view_module_version": "1.2.0",
            "_view_name": "LayoutView",
            "align_content": null,
            "align_items": null,
            "align_self": null,
            "border": null,
            "bottom": null,
            "display": null,
            "flex": null,
            "flex_flow": null,
            "grid_area": null,
            "grid_auto_columns": null,
            "grid_auto_flow": null,
            "grid_auto_rows": null,
            "grid_column": null,
            "grid_gap": null,
            "grid_row": null,
            "grid_template_areas": null,
            "grid_template_columns": null,
            "grid_template_rows": null,
            "height": null,
            "justify_content": null,
            "justify_items": null,
            "left": null,
            "margin": null,
            "max_height": null,
            "max_width": null,
            "min_height": null,
            "min_width": null,
            "object_fit": null,
            "object_position": null,
            "order": null,
            "overflow": null,
            "overflow_x": null,
            "overflow_y": null,
            "padding": null,
            "right": null,
            "top": null,
            "visibility": null,
            "width": null
          }
        },
        "5fbf27db93d24079a3eaf439d97260b1": {
          "model_module": "@jupyter-widgets/controls",
          "model_name": "ProgressStyleModel",
          "model_module_version": "1.5.0",
          "state": {
            "_model_module": "@jupyter-widgets/controls",
            "_model_module_version": "1.5.0",
            "_model_name": "ProgressStyleModel",
            "_view_count": null,
            "_view_module": "@jupyter-widgets/base",
            "_view_module_version": "1.2.0",
            "_view_name": "StyleView",
            "bar_color": null,
            "description_width": ""
          }
        },
        "328301a15d7f4240bb118e0c58617c20": {
          "model_module": "@jupyter-widgets/base",
          "model_name": "LayoutModel",
          "model_module_version": "1.2.0",
          "state": {
            "_model_module": "@jupyter-widgets/base",
            "_model_module_version": "1.2.0",
            "_model_name": "LayoutModel",
            "_view_count": null,
            "_view_module": "@jupyter-widgets/base",
            "_view_module_version": "1.2.0",
            "_view_name": "LayoutView",
            "align_content": null,
            "align_items": null,
            "align_self": null,
            "border": null,
            "bottom": null,
            "display": null,
            "flex": null,
            "flex_flow": null,
            "grid_area": null,
            "grid_auto_columns": null,
            "grid_auto_flow": null,
            "grid_auto_rows": null,
            "grid_column": null,
            "grid_gap": null,
            "grid_row": null,
            "grid_template_areas": null,
            "grid_template_columns": null,
            "grid_template_rows": null,
            "height": null,
            "justify_content": null,
            "justify_items": null,
            "left": null,
            "margin": null,
            "max_height": null,
            "max_width": null,
            "min_height": null,
            "min_width": null,
            "object_fit": null,
            "object_position": null,
            "order": null,
            "overflow": null,
            "overflow_x": null,
            "overflow_y": null,
            "padding": null,
            "right": null,
            "top": null,
            "visibility": null,
            "width": null
          }
        },
        "d2daeeeae0474a90850f52f790028986": {
          "model_module": "@jupyter-widgets/controls",
          "model_name": "DescriptionStyleModel",
          "model_module_version": "1.5.0",
          "state": {
            "_model_module": "@jupyter-widgets/controls",
            "_model_module_version": "1.5.0",
            "_model_name": "DescriptionStyleModel",
            "_view_count": null,
            "_view_module": "@jupyter-widgets/base",
            "_view_module_version": "1.2.0",
            "_view_name": "StyleView",
            "description_width": ""
          }
        },
        "dcfbbae47cd7438196e931472e40abf5": {
          "model_module": "@jupyter-widgets/controls",
          "model_name": "HBoxModel",
          "model_module_version": "1.5.0",
          "state": {
            "_dom_classes": [],
            "_model_module": "@jupyter-widgets/controls",
            "_model_module_version": "1.5.0",
            "_model_name": "HBoxModel",
            "_view_count": null,
            "_view_module": "@jupyter-widgets/controls",
            "_view_module_version": "1.5.0",
            "_view_name": "HBoxView",
            "box_style": "",
            "children": [
              "IPY_MODEL_f2639da4f63a44e29a0849d436384cc0",
              "IPY_MODEL_a809bbddad1e4c419870c3c9c9e83299",
              "IPY_MODEL_aa582409015744c0a603d2a26670593d"
            ],
            "layout": "IPY_MODEL_c6324c4fcd2f43489d0a2c76399d010d"
          }
        },
        "f2639da4f63a44e29a0849d436384cc0": {
          "model_module": "@jupyter-widgets/controls",
          "model_name": "HTMLModel",
          "model_module_version": "1.5.0",
          "state": {
            "_dom_classes": [],
            "_model_module": "@jupyter-widgets/controls",
            "_model_module_version": "1.5.0",
            "_model_name": "HTMLModel",
            "_view_count": null,
            "_view_module": "@jupyter-widgets/controls",
            "_view_module_version": "1.5.0",
            "_view_name": "HTMLView",
            "description": "",
            "description_tooltip": null,
            "layout": "IPY_MODEL_79c5b0c833c14ca2886a3d38a1ed3e1b",
            "placeholder": "​",
            "style": "IPY_MODEL_6b7f96315ce44e73abf179d853b5fc1d",
            "value": "Downloading (…)olve/main/merges.txt: 100%"
          }
        },
        "a809bbddad1e4c419870c3c9c9e83299": {
          "model_module": "@jupyter-widgets/controls",
          "model_name": "FloatProgressModel",
          "model_module_version": "1.5.0",
          "state": {
            "_dom_classes": [],
            "_model_module": "@jupyter-widgets/controls",
            "_model_module_version": "1.5.0",
            "_model_name": "FloatProgressModel",
            "_view_count": null,
            "_view_module": "@jupyter-widgets/controls",
            "_view_module_version": "1.5.0",
            "_view_name": "ProgressView",
            "bar_style": "success",
            "description": "",
            "description_tooltip": null,
            "layout": "IPY_MODEL_1a2e5dba14ba4d65a36ef89dccc69706",
            "max": 456318,
            "min": 0,
            "orientation": "horizontal",
            "style": "IPY_MODEL_4b54995abf504e1fac09ff3e7356745c",
            "value": 456318
          }
        },
        "aa582409015744c0a603d2a26670593d": {
          "model_module": "@jupyter-widgets/controls",
          "model_name": "HTMLModel",
          "model_module_version": "1.5.0",
          "state": {
            "_dom_classes": [],
            "_model_module": "@jupyter-widgets/controls",
            "_model_module_version": "1.5.0",
            "_model_name": "HTMLModel",
            "_view_count": null,
            "_view_module": "@jupyter-widgets/controls",
            "_view_module_version": "1.5.0",
            "_view_name": "HTMLView",
            "description": "",
            "description_tooltip": null,
            "layout": "IPY_MODEL_722e7ddf241643809f7bb61760455cbf",
            "placeholder": "​",
            "style": "IPY_MODEL_a36122fa7d324dbba30028f04e8b6cb2",
            "value": " 456k/456k [00:00&lt;00:00, 10.2MB/s]"
          }
        },
        "c6324c4fcd2f43489d0a2c76399d010d": {
          "model_module": "@jupyter-widgets/base",
          "model_name": "LayoutModel",
          "model_module_version": "1.2.0",
          "state": {
            "_model_module": "@jupyter-widgets/base",
            "_model_module_version": "1.2.0",
            "_model_name": "LayoutModel",
            "_view_count": null,
            "_view_module": "@jupyter-widgets/base",
            "_view_module_version": "1.2.0",
            "_view_name": "LayoutView",
            "align_content": null,
            "align_items": null,
            "align_self": null,
            "border": null,
            "bottom": null,
            "display": null,
            "flex": null,
            "flex_flow": null,
            "grid_area": null,
            "grid_auto_columns": null,
            "grid_auto_flow": null,
            "grid_auto_rows": null,
            "grid_column": null,
            "grid_gap": null,
            "grid_row": null,
            "grid_template_areas": null,
            "grid_template_columns": null,
            "grid_template_rows": null,
            "height": null,
            "justify_content": null,
            "justify_items": null,
            "left": null,
            "margin": null,
            "max_height": null,
            "max_width": null,
            "min_height": null,
            "min_width": null,
            "object_fit": null,
            "object_position": null,
            "order": null,
            "overflow": null,
            "overflow_x": null,
            "overflow_y": null,
            "padding": null,
            "right": null,
            "top": null,
            "visibility": null,
            "width": null
          }
        },
        "79c5b0c833c14ca2886a3d38a1ed3e1b": {
          "model_module": "@jupyter-widgets/base",
          "model_name": "LayoutModel",
          "model_module_version": "1.2.0",
          "state": {
            "_model_module": "@jupyter-widgets/base",
            "_model_module_version": "1.2.0",
            "_model_name": "LayoutModel",
            "_view_count": null,
            "_view_module": "@jupyter-widgets/base",
            "_view_module_version": "1.2.0",
            "_view_name": "LayoutView",
            "align_content": null,
            "align_items": null,
            "align_self": null,
            "border": null,
            "bottom": null,
            "display": null,
            "flex": null,
            "flex_flow": null,
            "grid_area": null,
            "grid_auto_columns": null,
            "grid_auto_flow": null,
            "grid_auto_rows": null,
            "grid_column": null,
            "grid_gap": null,
            "grid_row": null,
            "grid_template_areas": null,
            "grid_template_columns": null,
            "grid_template_rows": null,
            "height": null,
            "justify_content": null,
            "justify_items": null,
            "left": null,
            "margin": null,
            "max_height": null,
            "max_width": null,
            "min_height": null,
            "min_width": null,
            "object_fit": null,
            "object_position": null,
            "order": null,
            "overflow": null,
            "overflow_x": null,
            "overflow_y": null,
            "padding": null,
            "right": null,
            "top": null,
            "visibility": null,
            "width": null
          }
        },
        "6b7f96315ce44e73abf179d853b5fc1d": {
          "model_module": "@jupyter-widgets/controls",
          "model_name": "DescriptionStyleModel",
          "model_module_version": "1.5.0",
          "state": {
            "_model_module": "@jupyter-widgets/controls",
            "_model_module_version": "1.5.0",
            "_model_name": "DescriptionStyleModel",
            "_view_count": null,
            "_view_module": "@jupyter-widgets/base",
            "_view_module_version": "1.2.0",
            "_view_name": "StyleView",
            "description_width": ""
          }
        },
        "1a2e5dba14ba4d65a36ef89dccc69706": {
          "model_module": "@jupyter-widgets/base",
          "model_name": "LayoutModel",
          "model_module_version": "1.2.0",
          "state": {
            "_model_module": "@jupyter-widgets/base",
            "_model_module_version": "1.2.0",
            "_model_name": "LayoutModel",
            "_view_count": null,
            "_view_module": "@jupyter-widgets/base",
            "_view_module_version": "1.2.0",
            "_view_name": "LayoutView",
            "align_content": null,
            "align_items": null,
            "align_self": null,
            "border": null,
            "bottom": null,
            "display": null,
            "flex": null,
            "flex_flow": null,
            "grid_area": null,
            "grid_auto_columns": null,
            "grid_auto_flow": null,
            "grid_auto_rows": null,
            "grid_column": null,
            "grid_gap": null,
            "grid_row": null,
            "grid_template_areas": null,
            "grid_template_columns": null,
            "grid_template_rows": null,
            "height": null,
            "justify_content": null,
            "justify_items": null,
            "left": null,
            "margin": null,
            "max_height": null,
            "max_width": null,
            "min_height": null,
            "min_width": null,
            "object_fit": null,
            "object_position": null,
            "order": null,
            "overflow": null,
            "overflow_x": null,
            "overflow_y": null,
            "padding": null,
            "right": null,
            "top": null,
            "visibility": null,
            "width": null
          }
        },
        "4b54995abf504e1fac09ff3e7356745c": {
          "model_module": "@jupyter-widgets/controls",
          "model_name": "ProgressStyleModel",
          "model_module_version": "1.5.0",
          "state": {
            "_model_module": "@jupyter-widgets/controls",
            "_model_module_version": "1.5.0",
            "_model_name": "ProgressStyleModel",
            "_view_count": null,
            "_view_module": "@jupyter-widgets/base",
            "_view_module_version": "1.2.0",
            "_view_name": "StyleView",
            "bar_color": null,
            "description_width": ""
          }
        },
        "722e7ddf241643809f7bb61760455cbf": {
          "model_module": "@jupyter-widgets/base",
          "model_name": "LayoutModel",
          "model_module_version": "1.2.0",
          "state": {
            "_model_module": "@jupyter-widgets/base",
            "_model_module_version": "1.2.0",
            "_model_name": "LayoutModel",
            "_view_count": null,
            "_view_module": "@jupyter-widgets/base",
            "_view_module_version": "1.2.0",
            "_view_name": "LayoutView",
            "align_content": null,
            "align_items": null,
            "align_self": null,
            "border": null,
            "bottom": null,
            "display": null,
            "flex": null,
            "flex_flow": null,
            "grid_area": null,
            "grid_auto_columns": null,
            "grid_auto_flow": null,
            "grid_auto_rows": null,
            "grid_column": null,
            "grid_gap": null,
            "grid_row": null,
            "grid_template_areas": null,
            "grid_template_columns": null,
            "grid_template_rows": null,
            "height": null,
            "justify_content": null,
            "justify_items": null,
            "left": null,
            "margin": null,
            "max_height": null,
            "max_width": null,
            "min_height": null,
            "min_width": null,
            "object_fit": null,
            "object_position": null,
            "order": null,
            "overflow": null,
            "overflow_x": null,
            "overflow_y": null,
            "padding": null,
            "right": null,
            "top": null,
            "visibility": null,
            "width": null
          }
        },
        "a36122fa7d324dbba30028f04e8b6cb2": {
          "model_module": "@jupyter-widgets/controls",
          "model_name": "DescriptionStyleModel",
          "model_module_version": "1.5.0",
          "state": {
            "_model_module": "@jupyter-widgets/controls",
            "_model_module_version": "1.5.0",
            "_model_name": "DescriptionStyleModel",
            "_view_count": null,
            "_view_module": "@jupyter-widgets/base",
            "_view_module_version": "1.2.0",
            "_view_name": "StyleView",
            "description_width": ""
          }
        },
        "774f348adc204cb9bb2121875153155f": {
          "model_module": "@jupyter-widgets/controls",
          "model_name": "HBoxModel",
          "model_module_version": "1.5.0",
          "state": {
            "_dom_classes": [],
            "_model_module": "@jupyter-widgets/controls",
            "_model_module_version": "1.5.0",
            "_model_name": "HBoxModel",
            "_view_count": null,
            "_view_module": "@jupyter-widgets/controls",
            "_view_module_version": "1.5.0",
            "_view_name": "HBoxView",
            "box_style": "",
            "children": [
              "IPY_MODEL_f6aa78e2b30d483fab47f5c24e53db4f",
              "IPY_MODEL_7103571a15f04f8cb2ab8ece33fb7ab8",
              "IPY_MODEL_0cbb82dcea3f4d30abb00c4e3da6dc8c"
            ],
            "layout": "IPY_MODEL_9eedfc24213d4dedab3e6194b62b27ef"
          }
        },
        "f6aa78e2b30d483fab47f5c24e53db4f": {
          "model_module": "@jupyter-widgets/controls",
          "model_name": "HTMLModel",
          "model_module_version": "1.5.0",
          "state": {
            "_dom_classes": [],
            "_model_module": "@jupyter-widgets/controls",
            "_model_module_version": "1.5.0",
            "_model_name": "HTMLModel",
            "_view_count": null,
            "_view_module": "@jupyter-widgets/controls",
            "_view_module_version": "1.5.0",
            "_view_name": "HTMLView",
            "description": "",
            "description_tooltip": null,
            "layout": "IPY_MODEL_ab04c217c608438a8c04a186ce5f9f1b",
            "placeholder": "​",
            "style": "IPY_MODEL_bed57d52ed354c52968d6fe204e15871",
            "value": "Downloading (…)/main/tokenizer.json: 100%"
          }
        },
        "7103571a15f04f8cb2ab8ece33fb7ab8": {
          "model_module": "@jupyter-widgets/controls",
          "model_name": "FloatProgressModel",
          "model_module_version": "1.5.0",
          "state": {
            "_dom_classes": [],
            "_model_module": "@jupyter-widgets/controls",
            "_model_module_version": "1.5.0",
            "_model_name": "FloatProgressModel",
            "_view_count": null,
            "_view_module": "@jupyter-widgets/controls",
            "_view_module_version": "1.5.0",
            "_view_name": "ProgressView",
            "bar_style": "success",
            "description": "",
            "description_tooltip": null,
            "layout": "IPY_MODEL_c2dd47a2acf34ee992de6ba42183420d",
            "max": 1355256,
            "min": 0,
            "orientation": "horizontal",
            "style": "IPY_MODEL_f1400bf3a94d41c19bc49b39b191e640",
            "value": 1355256
          }
        },
        "0cbb82dcea3f4d30abb00c4e3da6dc8c": {
          "model_module": "@jupyter-widgets/controls",
          "model_name": "HTMLModel",
          "model_module_version": "1.5.0",
          "state": {
            "_dom_classes": [],
            "_model_module": "@jupyter-widgets/controls",
            "_model_module_version": "1.5.0",
            "_model_name": "HTMLModel",
            "_view_count": null,
            "_view_module": "@jupyter-widgets/controls",
            "_view_module_version": "1.5.0",
            "_view_name": "HTMLView",
            "description": "",
            "description_tooltip": null,
            "layout": "IPY_MODEL_39b6b03187dc443c94a6d4c31838e672",
            "placeholder": "​",
            "style": "IPY_MODEL_4670e34d44e84173878f71f5fe3b09d1",
            "value": " 1.36M/1.36M [00:00&lt;00:00, 21.1MB/s]"
          }
        },
        "9eedfc24213d4dedab3e6194b62b27ef": {
          "model_module": "@jupyter-widgets/base",
          "model_name": "LayoutModel",
          "model_module_version": "1.2.0",
          "state": {
            "_model_module": "@jupyter-widgets/base",
            "_model_module_version": "1.2.0",
            "_model_name": "LayoutModel",
            "_view_count": null,
            "_view_module": "@jupyter-widgets/base",
            "_view_module_version": "1.2.0",
            "_view_name": "LayoutView",
            "align_content": null,
            "align_items": null,
            "align_self": null,
            "border": null,
            "bottom": null,
            "display": null,
            "flex": null,
            "flex_flow": null,
            "grid_area": null,
            "grid_auto_columns": null,
            "grid_auto_flow": null,
            "grid_auto_rows": null,
            "grid_column": null,
            "grid_gap": null,
            "grid_row": null,
            "grid_template_areas": null,
            "grid_template_columns": null,
            "grid_template_rows": null,
            "height": null,
            "justify_content": null,
            "justify_items": null,
            "left": null,
            "margin": null,
            "max_height": null,
            "max_width": null,
            "min_height": null,
            "min_width": null,
            "object_fit": null,
            "object_position": null,
            "order": null,
            "overflow": null,
            "overflow_x": null,
            "overflow_y": null,
            "padding": null,
            "right": null,
            "top": null,
            "visibility": null,
            "width": null
          }
        },
        "ab04c217c608438a8c04a186ce5f9f1b": {
          "model_module": "@jupyter-widgets/base",
          "model_name": "LayoutModel",
          "model_module_version": "1.2.0",
          "state": {
            "_model_module": "@jupyter-widgets/base",
            "_model_module_version": "1.2.0",
            "_model_name": "LayoutModel",
            "_view_count": null,
            "_view_module": "@jupyter-widgets/base",
            "_view_module_version": "1.2.0",
            "_view_name": "LayoutView",
            "align_content": null,
            "align_items": null,
            "align_self": null,
            "border": null,
            "bottom": null,
            "display": null,
            "flex": null,
            "flex_flow": null,
            "grid_area": null,
            "grid_auto_columns": null,
            "grid_auto_flow": null,
            "grid_auto_rows": null,
            "grid_column": null,
            "grid_gap": null,
            "grid_row": null,
            "grid_template_areas": null,
            "grid_template_columns": null,
            "grid_template_rows": null,
            "height": null,
            "justify_content": null,
            "justify_items": null,
            "left": null,
            "margin": null,
            "max_height": null,
            "max_width": null,
            "min_height": null,
            "min_width": null,
            "object_fit": null,
            "object_position": null,
            "order": null,
            "overflow": null,
            "overflow_x": null,
            "overflow_y": null,
            "padding": null,
            "right": null,
            "top": null,
            "visibility": null,
            "width": null
          }
        },
        "bed57d52ed354c52968d6fe204e15871": {
          "model_module": "@jupyter-widgets/controls",
          "model_name": "DescriptionStyleModel",
          "model_module_version": "1.5.0",
          "state": {
            "_model_module": "@jupyter-widgets/controls",
            "_model_module_version": "1.5.0",
            "_model_name": "DescriptionStyleModel",
            "_view_count": null,
            "_view_module": "@jupyter-widgets/base",
            "_view_module_version": "1.2.0",
            "_view_name": "StyleView",
            "description_width": ""
          }
        },
        "c2dd47a2acf34ee992de6ba42183420d": {
          "model_module": "@jupyter-widgets/base",
          "model_name": "LayoutModel",
          "model_module_version": "1.2.0",
          "state": {
            "_model_module": "@jupyter-widgets/base",
            "_model_module_version": "1.2.0",
            "_model_name": "LayoutModel",
            "_view_count": null,
            "_view_module": "@jupyter-widgets/base",
            "_view_module_version": "1.2.0",
            "_view_name": "LayoutView",
            "align_content": null,
            "align_items": null,
            "align_self": null,
            "border": null,
            "bottom": null,
            "display": null,
            "flex": null,
            "flex_flow": null,
            "grid_area": null,
            "grid_auto_columns": null,
            "grid_auto_flow": null,
            "grid_auto_rows": null,
            "grid_column": null,
            "grid_gap": null,
            "grid_row": null,
            "grid_template_areas": null,
            "grid_template_columns": null,
            "grid_template_rows": null,
            "height": null,
            "justify_content": null,
            "justify_items": null,
            "left": null,
            "margin": null,
            "max_height": null,
            "max_width": null,
            "min_height": null,
            "min_width": null,
            "object_fit": null,
            "object_position": null,
            "order": null,
            "overflow": null,
            "overflow_x": null,
            "overflow_y": null,
            "padding": null,
            "right": null,
            "top": null,
            "visibility": null,
            "width": null
          }
        },
        "f1400bf3a94d41c19bc49b39b191e640": {
          "model_module": "@jupyter-widgets/controls",
          "model_name": "ProgressStyleModel",
          "model_module_version": "1.5.0",
          "state": {
            "_model_module": "@jupyter-widgets/controls",
            "_model_module_version": "1.5.0",
            "_model_name": "ProgressStyleModel",
            "_view_count": null,
            "_view_module": "@jupyter-widgets/base",
            "_view_module_version": "1.2.0",
            "_view_name": "StyleView",
            "bar_color": null,
            "description_width": ""
          }
        },
        "39b6b03187dc443c94a6d4c31838e672": {
          "model_module": "@jupyter-widgets/base",
          "model_name": "LayoutModel",
          "model_module_version": "1.2.0",
          "state": {
            "_model_module": "@jupyter-widgets/base",
            "_model_module_version": "1.2.0",
            "_model_name": "LayoutModel",
            "_view_count": null,
            "_view_module": "@jupyter-widgets/base",
            "_view_module_version": "1.2.0",
            "_view_name": "LayoutView",
            "align_content": null,
            "align_items": null,
            "align_self": null,
            "border": null,
            "bottom": null,
            "display": null,
            "flex": null,
            "flex_flow": null,
            "grid_area": null,
            "grid_auto_columns": null,
            "grid_auto_flow": null,
            "grid_auto_rows": null,
            "grid_column": null,
            "grid_gap": null,
            "grid_row": null,
            "grid_template_areas": null,
            "grid_template_columns": null,
            "grid_template_rows": null,
            "height": null,
            "justify_content": null,
            "justify_items": null,
            "left": null,
            "margin": null,
            "max_height": null,
            "max_width": null,
            "min_height": null,
            "min_width": null,
            "object_fit": null,
            "object_position": null,
            "order": null,
            "overflow": null,
            "overflow_x": null,
            "overflow_y": null,
            "padding": null,
            "right": null,
            "top": null,
            "visibility": null,
            "width": null
          }
        },
        "4670e34d44e84173878f71f5fe3b09d1": {
          "model_module": "@jupyter-widgets/controls",
          "model_name": "DescriptionStyleModel",
          "model_module_version": "1.5.0",
          "state": {
            "_model_module": "@jupyter-widgets/controls",
            "_model_module_version": "1.5.0",
            "_model_name": "DescriptionStyleModel",
            "_view_count": null,
            "_view_module": "@jupyter-widgets/base",
            "_view_module_version": "1.2.0",
            "_view_name": "StyleView",
            "description_width": ""
          }
        },
        "88756b68cffd4152b5f158c9f66d8c00": {
          "model_module": "@jupyter-widgets/controls",
          "model_name": "HBoxModel",
          "model_module_version": "1.5.0",
          "state": {
            "_dom_classes": [],
            "_model_module": "@jupyter-widgets/controls",
            "_model_module_version": "1.5.0",
            "_model_name": "HBoxModel",
            "_view_count": null,
            "_view_module": "@jupyter-widgets/controls",
            "_view_module_version": "1.5.0",
            "_view_name": "HBoxView",
            "box_style": "",
            "children": [
              "IPY_MODEL_7b942186595e43bd976d16f60e19401a",
              "IPY_MODEL_4ebee3ddfd884838a9ac4273426c8fb9",
              "IPY_MODEL_b8310681428c45ed9b5f3b2ee91aff3a"
            ],
            "layout": "IPY_MODEL_217999740a394b63a3d10b413907d8a1"
          }
        },
        "7b942186595e43bd976d16f60e19401a": {
          "model_module": "@jupyter-widgets/controls",
          "model_name": "HTMLModel",
          "model_module_version": "1.5.0",
          "state": {
            "_dom_classes": [],
            "_model_module": "@jupyter-widgets/controls",
            "_model_module_version": "1.5.0",
            "_model_name": "HTMLModel",
            "_view_count": null,
            "_view_module": "@jupyter-widgets/controls",
            "_view_module_version": "1.5.0",
            "_view_name": "HTMLView",
            "description": "",
            "description_tooltip": null,
            "layout": "IPY_MODEL_b14752ece4c943ea9b19202308159e3b",
            "placeholder": "​",
            "style": "IPY_MODEL_146b2ce0d57949e3b596c4381d3d1f04",
            "value": "Downloading (…)lve/main/config.json: 100%"
          }
        },
        "4ebee3ddfd884838a9ac4273426c8fb9": {
          "model_module": "@jupyter-widgets/controls",
          "model_name": "FloatProgressModel",
          "model_module_version": "1.5.0",
          "state": {
            "_dom_classes": [],
            "_model_module": "@jupyter-widgets/controls",
            "_model_module_version": "1.5.0",
            "_model_name": "FloatProgressModel",
            "_view_count": null,
            "_view_module": "@jupyter-widgets/controls",
            "_view_module_version": "1.5.0",
            "_view_name": "ProgressView",
            "bar_style": "success",
            "description": "",
            "description_tooltip": null,
            "layout": "IPY_MODEL_b85a7cf69ab34b0b88a4847af2394580",
            "max": 665,
            "min": 0,
            "orientation": "horizontal",
            "style": "IPY_MODEL_2c02d1330397428e91ca1f61935a8274",
            "value": 665
          }
        },
        "b8310681428c45ed9b5f3b2ee91aff3a": {
          "model_module": "@jupyter-widgets/controls",
          "model_name": "HTMLModel",
          "model_module_version": "1.5.0",
          "state": {
            "_dom_classes": [],
            "_model_module": "@jupyter-widgets/controls",
            "_model_module_version": "1.5.0",
            "_model_name": "HTMLModel",
            "_view_count": null,
            "_view_module": "@jupyter-widgets/controls",
            "_view_module_version": "1.5.0",
            "_view_name": "HTMLView",
            "description": "",
            "description_tooltip": null,
            "layout": "IPY_MODEL_75a28b7a8ea343c9808baf61fbca2bc7",
            "placeholder": "​",
            "style": "IPY_MODEL_666c4cee5cd047ecaad392897dd4d2ef",
            "value": " 665/665 [00:00&lt;00:00, 23.9kB/s]"
          }
        },
        "217999740a394b63a3d10b413907d8a1": {
          "model_module": "@jupyter-widgets/base",
          "model_name": "LayoutModel",
          "model_module_version": "1.2.0",
          "state": {
            "_model_module": "@jupyter-widgets/base",
            "_model_module_version": "1.2.0",
            "_model_name": "LayoutModel",
            "_view_count": null,
            "_view_module": "@jupyter-widgets/base",
            "_view_module_version": "1.2.0",
            "_view_name": "LayoutView",
            "align_content": null,
            "align_items": null,
            "align_self": null,
            "border": null,
            "bottom": null,
            "display": null,
            "flex": null,
            "flex_flow": null,
            "grid_area": null,
            "grid_auto_columns": null,
            "grid_auto_flow": null,
            "grid_auto_rows": null,
            "grid_column": null,
            "grid_gap": null,
            "grid_row": null,
            "grid_template_areas": null,
            "grid_template_columns": null,
            "grid_template_rows": null,
            "height": null,
            "justify_content": null,
            "justify_items": null,
            "left": null,
            "margin": null,
            "max_height": null,
            "max_width": null,
            "min_height": null,
            "min_width": null,
            "object_fit": null,
            "object_position": null,
            "order": null,
            "overflow": null,
            "overflow_x": null,
            "overflow_y": null,
            "padding": null,
            "right": null,
            "top": null,
            "visibility": null,
            "width": null
          }
        },
        "b14752ece4c943ea9b19202308159e3b": {
          "model_module": "@jupyter-widgets/base",
          "model_name": "LayoutModel",
          "model_module_version": "1.2.0",
          "state": {
            "_model_module": "@jupyter-widgets/base",
            "_model_module_version": "1.2.0",
            "_model_name": "LayoutModel",
            "_view_count": null,
            "_view_module": "@jupyter-widgets/base",
            "_view_module_version": "1.2.0",
            "_view_name": "LayoutView",
            "align_content": null,
            "align_items": null,
            "align_self": null,
            "border": null,
            "bottom": null,
            "display": null,
            "flex": null,
            "flex_flow": null,
            "grid_area": null,
            "grid_auto_columns": null,
            "grid_auto_flow": null,
            "grid_auto_rows": null,
            "grid_column": null,
            "grid_gap": null,
            "grid_row": null,
            "grid_template_areas": null,
            "grid_template_columns": null,
            "grid_template_rows": null,
            "height": null,
            "justify_content": null,
            "justify_items": null,
            "left": null,
            "margin": null,
            "max_height": null,
            "max_width": null,
            "min_height": null,
            "min_width": null,
            "object_fit": null,
            "object_position": null,
            "order": null,
            "overflow": null,
            "overflow_x": null,
            "overflow_y": null,
            "padding": null,
            "right": null,
            "top": null,
            "visibility": null,
            "width": null
          }
        },
        "146b2ce0d57949e3b596c4381d3d1f04": {
          "model_module": "@jupyter-widgets/controls",
          "model_name": "DescriptionStyleModel",
          "model_module_version": "1.5.0",
          "state": {
            "_model_module": "@jupyter-widgets/controls",
            "_model_module_version": "1.5.0",
            "_model_name": "DescriptionStyleModel",
            "_view_count": null,
            "_view_module": "@jupyter-widgets/base",
            "_view_module_version": "1.2.0",
            "_view_name": "StyleView",
            "description_width": ""
          }
        },
        "b85a7cf69ab34b0b88a4847af2394580": {
          "model_module": "@jupyter-widgets/base",
          "model_name": "LayoutModel",
          "model_module_version": "1.2.0",
          "state": {
            "_model_module": "@jupyter-widgets/base",
            "_model_module_version": "1.2.0",
            "_model_name": "LayoutModel",
            "_view_count": null,
            "_view_module": "@jupyter-widgets/base",
            "_view_module_version": "1.2.0",
            "_view_name": "LayoutView",
            "align_content": null,
            "align_items": null,
            "align_self": null,
            "border": null,
            "bottom": null,
            "display": null,
            "flex": null,
            "flex_flow": null,
            "grid_area": null,
            "grid_auto_columns": null,
            "grid_auto_flow": null,
            "grid_auto_rows": null,
            "grid_column": null,
            "grid_gap": null,
            "grid_row": null,
            "grid_template_areas": null,
            "grid_template_columns": null,
            "grid_template_rows": null,
            "height": null,
            "justify_content": null,
            "justify_items": null,
            "left": null,
            "margin": null,
            "max_height": null,
            "max_width": null,
            "min_height": null,
            "min_width": null,
            "object_fit": null,
            "object_position": null,
            "order": null,
            "overflow": null,
            "overflow_x": null,
            "overflow_y": null,
            "padding": null,
            "right": null,
            "top": null,
            "visibility": null,
            "width": null
          }
        },
        "2c02d1330397428e91ca1f61935a8274": {
          "model_module": "@jupyter-widgets/controls",
          "model_name": "ProgressStyleModel",
          "model_module_version": "1.5.0",
          "state": {
            "_model_module": "@jupyter-widgets/controls",
            "_model_module_version": "1.5.0",
            "_model_name": "ProgressStyleModel",
            "_view_count": null,
            "_view_module": "@jupyter-widgets/base",
            "_view_module_version": "1.2.0",
            "_view_name": "StyleView",
            "bar_color": null,
            "description_width": ""
          }
        },
        "75a28b7a8ea343c9808baf61fbca2bc7": {
          "model_module": "@jupyter-widgets/base",
          "model_name": "LayoutModel",
          "model_module_version": "1.2.0",
          "state": {
            "_model_module": "@jupyter-widgets/base",
            "_model_module_version": "1.2.0",
            "_model_name": "LayoutModel",
            "_view_count": null,
            "_view_module": "@jupyter-widgets/base",
            "_view_module_version": "1.2.0",
            "_view_name": "LayoutView",
            "align_content": null,
            "align_items": null,
            "align_self": null,
            "border": null,
            "bottom": null,
            "display": null,
            "flex": null,
            "flex_flow": null,
            "grid_area": null,
            "grid_auto_columns": null,
            "grid_auto_flow": null,
            "grid_auto_rows": null,
            "grid_column": null,
            "grid_gap": null,
            "grid_row": null,
            "grid_template_areas": null,
            "grid_template_columns": null,
            "grid_template_rows": null,
            "height": null,
            "justify_content": null,
            "justify_items": null,
            "left": null,
            "margin": null,
            "max_height": null,
            "max_width": null,
            "min_height": null,
            "min_width": null,
            "object_fit": null,
            "object_position": null,
            "order": null,
            "overflow": null,
            "overflow_x": null,
            "overflow_y": null,
            "padding": null,
            "right": null,
            "top": null,
            "visibility": null,
            "width": null
          }
        },
        "666c4cee5cd047ecaad392897dd4d2ef": {
          "model_module": "@jupyter-widgets/controls",
          "model_name": "DescriptionStyleModel",
          "model_module_version": "1.5.0",
          "state": {
            "_model_module": "@jupyter-widgets/controls",
            "_model_module_version": "1.5.0",
            "_model_name": "DescriptionStyleModel",
            "_view_count": null,
            "_view_module": "@jupyter-widgets/base",
            "_view_module_version": "1.2.0",
            "_view_name": "StyleView",
            "description_width": ""
          }
        }
      }
    }
  },
  "cells": [
    {
      "cell_type": "code",
      "execution_count": 1,
      "metadata": {
        "colab": {
          "base_uri": "https://localhost:8080/"
        },
        "id": "NjaFxurf2anC",
        "outputId": "3495625e-ab92-4c43-b9e1-45f2a539d6df"
      },
      "outputs": [
        {
          "output_type": "stream",
          "name": "stdout",
          "text": [
            "Drive already mounted at /gdrive; to attempt to forcibly remount, call drive.mount(\"/gdrive\", force_remount=True).\n"
          ]
        }
      ],
      "source": [
        "from google.colab import drive\n",
        "drive.mount('/gdrive')\n",
        "\n",
        "import sys\n",
        "sys.path.insert(0,'/content/drive/MyDrive/Colab Notebooks/secret.py')\n"
      ]
    },
    {
      "cell_type": "code",
      "source": [
        "!pip install --upgrade openai\n"
      ],
      "metadata": {
        "id": "CmYMcoQ1-ETU"
      },
      "execution_count": null,
      "outputs": []
    },
    {
      "cell_type": "code",
      "source": [
        "import openai\n",
        "import os\n",
        "os.environ['OPENAI_API_KEY'] = "
      ],
      "metadata": {
        "id": "oMXl_a-a-Wst"
      },
      "execution_count": 4,
      "outputs": []
    },
    {
      "cell_type": "code",
      "source": [
        "#!openai api fine_tunes.create -m ada --n_epochs 2 \\\n",
        "#   -t https://cdn.openai.com/API/train-demo.jsonl"
      ],
      "metadata": {
        "colab": {
          "base_uri": "https://localhost:8080/"
        },
        "id": "7sCkBlzk_8IK",
        "outputId": "3f8581c6-ff2b-4fc0-b9ff-04f750f88822"
      },
      "execution_count": null,
      "outputs": [
        {
          "metadata": {
            "tags": null
          },
          "name": "stdout",
          "output_type": "stream",
          "text": [
            "\rUpload progress:   0% 0.00/60.5k [00:00<?, ?it/s]\rUpload progress: 100% 60.5k/60.5k [00:00<00:00, 42.4Mit/s]\n",
            "Uploaded file from https://cdn.openai.com/API/train-demo.jsonl: file-YRL1szS5NkKTy9eOFV2D4k3C\n",
            "Created fine-tune: ft-aigSVtlKKGBDA6NjIchkbLMU\n",
            "Streaming events until fine-tuning is complete...\n",
            "\n",
            "(Ctrl-C will interrupt the stream, but not cancel the fine-tune)\n",
            "[2023-02-07 19:52:51] Created fine-tune: ft-aigSVtlKKGBDA6NjIchkbLMU\n"
          ]
        }
      ]
    },
    {
      "cell_type": "markdown",
      "source": [
        "# Test Train"
      ],
      "metadata": {
        "id": "5et_BEE6fnv0"
      }
    },
    {
      "cell_type": "code",
      "source": [
        "#file = open(\"/content/drive/MyDrive/Colab Notebooks/Data/housing-gen-rules-test.jsonl\")\n",
        "#data = file.read()\n",
        "!openai api fine_tunes.create -m ada --n_epochs 2 \\\n",
        "        -t \"/content/drive/MyDrive/Colab Notebooks/Data/housing-gen-rules-test.jsonl\"\n",
        "\n",
        "!pip install openai==0.25.0\n",
        "\n",
        "#!openai api fine_tunes.follow -i ft-ZIuwihl6WMjIm8AuA6dk1sdQ\n",
        "\n",
        "\n"
      ],
      "metadata": {
        "id": "r4iluf6R0QzF"
      },
      "execution_count": null,
      "outputs": []
    },
    {
      "cell_type": "code",
      "source": [
        "!openai api completions.create -m ada:ft-personal-2023-02-07-21-04-53 -p \"What is the payment process for University Housing?\""
      ],
      "metadata": {
        "colab": {
          "base_uri": "https://localhost:8080/"
        },
        "id": "EgeeTuVyslQg",
        "outputId": "64f1f8cb-7835-451c-99c9-9ccd2dec10a9"
      },
      "execution_count": null,
      "outputs": [
        {
          "output_type": "stream",
          "name": "stdout",
          "text": [
            "What is the payment process for University Housing?In order to complete the payment process, students will use the payment form.\"Che"
          ]
        }
      ]
    },
    {
      "cell_type": "code",
      "source": [
        "!openai api completions.create -m ada:ft-personal-2023-02-07-21-04-53 -p \"University housing cost\""
      ],
      "metadata": {
        "colab": {
          "base_uri": "https://localhost:8080/"
        },
        "id": "rDY5io5QW1-K",
        "outputId": "27a7adbc-fc8b-42ac-dfec-b9e9456bfb85"
      },
      "execution_count": null,
      "outputs": [
        {
          "output_type": "stream",
          "name": "stdout",
          "text": [
            "University housing cost average + 11%Land valuation average -29%Land price average +9%"
          ]
        }
      ]
    },
    {
      "cell_type": "markdown",
      "source": [
        "# Scrape data"
      ],
      "metadata": {
        "id": "99SIyDUOX9Sj"
      }
    },
    {
      "cell_type": "code",
      "source": [
        "!pip install beautifulsoup4\n",
        "import urllib as ul\n",
        "from bs4 import BeautifulSoup"
      ],
      "metadata": {
        "colab": {
          "base_uri": "https://localhost:8080/"
        },
        "id": "dq85_5xHmXsS",
        "outputId": "36584264-5f01-41e4-b57a-9a0f44a5dbc3"
      },
      "execution_count": 5,
      "outputs": [
        {
          "output_type": "stream",
          "name": "stdout",
          "text": [
            "Looking in indexes: https://pypi.org/simple, https://us-python.pkg.dev/colab-wheels/public/simple/\n",
            "Requirement already satisfied: beautifulsoup4 in /usr/local/lib/python3.8/dist-packages (4.6.3)\n"
          ]
        }
      ]
    },
    {
      "cell_type": "code",
      "source": [
        "url = 'https://enroll.utdallas.edu/freshman/criteria/'\n",
        "\n",
        "res = ul.request.urlopen(url)\n",
        "text = res.read().decode('UTF-8')\n",
        "soup = BeautifulSoup(text, 'html5lib')\n",
        "\n",
        "ptags = soup.find_all('p')\n",
        "content = ''\n",
        "\n",
        "for line in ptags:\n",
        "    content += (line.get_text() + '\\n')\n",
        "\n",
        "print(content)"
      ],
      "metadata": {
        "id": "oHoX-aGWX_fl",
        "outputId": "59766ed5-6f88-489d-fb2f-6e8d6699fec6",
        "colab": {
          "base_uri": "https://localhost:8080/"
        }
      },
      "execution_count": 12,
      "outputs": [
        {
          "output_type": "stream",
          "name": "stdout",
          "text": [
            "You are considered a first-time freshman applicant if you’ve completed AP, IB, and/or college credit courses during high school — including during the summer after graduation.\n",
            "Applicants who have completed coursework at a college or university after high school graduation (excluding the summer) should apply for transfer admission.\n",
            "Every student brings something unique to our community that encompasses achievements, experiences and viewpoints. All applicants are reviewed individually and holistically. Consideration is given to the following factors:\n",
            "As Texas law requires, students will be automatically admitted to UT Dallas as first-time freshmen if they graduate in the top 10% of their class from an accredited Texas high school and successfully earn the Distinguished Level of Achievement. Applicants must have graduated from high school during one of the two school years preceding the academic year for which they seek admission as first-time freshmen and have not attempted any college-level coursework since graduation from high school.\n",
            "Applicants admitted because they are in the top 10% of their high school class may be required to complete additional preparatory work before enrolling in the University or complete developmental coursework to remove any deficiencies in their readiness to complete college-level work before University graduation.\n",
            "As required by Texas Senate Bill 1543, applicants who present evidence of obtaining a non-traditional secondary education (for example, those who were home-schooled or earned a GED instead of a high school diploma) will be assigned a percentile rank compared to the average class rank of students from traditional schools who have equivalent SAT or ACT test scores.\n",
            "Students who are not admitted into their first choice of major due to capacity constraints or major-specific requirements may be offered admission to a different major as outlined in their acceptance letter.\n",
            "International applicants must meet the criteria for freshman admission and additional steps, such as satisfying the English proficiency requirement. Be sure to review the international applicant’s webpage for a list of additional required materials for a complete application.\n",
            "Our admission counselors are here to help guide you through the entire admission process — from choosing your school and submitting your application to preparing for enrollment.\n",
            "Contact us or use our counselor locator tool to email your assigned UT Dallas admission counselor directly.\n",
            "Office of Admission and Enrollmentadmission@utdallas.edu 972-883-2270Meet with a Counselor\n",
            "View more social accounts\n",
            "© The University of Texas at Dallas\n",
            "\n"
          ]
        }
      ]
    },
    {
      "cell_type": "markdown",
      "source": [
        "# Week 2/13/2023\n"
      ],
      "metadata": {
        "id": "snl-HnH0jxVO"
      }
    },
    {
      "cell_type": "code",
      "source": [
        "#!openai api fine_tunes.create -m ada --n_epochs 4 \\\n",
        "      #  -t \"/gdrive/MyDrive/Colab Notebooks/Data/freshmenapp.jsonl\"\n",
        "#!openai api fine_tunes.follow -i ft-ZTMN5vjpoQfJwYpFjfso3HXh\n",
        "!openai api fine_tunes.follow -i ft-OoHa6P9yDj5wcFTOVMj89GCI"
      ],
      "metadata": {
        "id": "M9g3FHLQG-NP"
      },
      "execution_count": null,
      "outputs": []
    },
    {
      "cell_type": "code",
      "source": [
        "!openai api completions.create -m ada:ft-personal-2023-02-16-06-22-20 -p \"how to pay for UTD\" -M 60"
      ],
      "metadata": {
        "id": "fIMablbOrewA"
      },
      "execution_count": null,
      "outputs": []
    },
    {
      "cell_type": "code",
      "source": [
        "#!openai api fine_tunes.create -m ada --n_epochs 4 \\\n",
        "    #    -t \"/gdrive/MyDrive/Colab Notebooks/Data/week213v2.jsonl\" -m 'davinci'\n",
        "!openai api fine_tunes.follow -i ft-TIhxJN1Eh2yybdWRGb3wvXyk"
      ],
      "metadata": {
        "id": "OCMkw8V1qnQo"
      },
      "execution_count": null,
      "outputs": []
    },
    {
      "cell_type": "code",
      "source": [
        "!openai api completions.create -m davinci:ft-personal-2023-02-17-05-22-50 -p \"What is the class size at UTD?\""
      ],
      "metadata": {
        "id": "uje2gIBV06ru"
      },
      "execution_count": null,
      "outputs": []
    },
    {
      "cell_type": "code",
      "source": [
        "!openai api completions.create -m davinci:ft-personal-2023-02-17-05-22-50 -p \"What is the tuition cost of UTD?\""
      ],
      "metadata": {
        "id": "SXZa68IH1sR1"
      },
      "execution_count": null,
      "outputs": []
    },
    {
      "cell_type": "code",
      "source": [
        "!openai api completions.create -m davinci:ft-personal-2023-02-17-05-22-50 -p \"what is student to faculty ratio at UT Dallas?\""
      ],
      "metadata": {
        "id": "eKNKmyVh13Jr"
      },
      "execution_count": null,
      "outputs": []
    },
    {
      "cell_type": "markdown",
      "source": [
        "# Week 2/20/2023"
      ],
      "metadata": {
        "id": "dHMUapmtjeNa"
      }
    },
    {
      "cell_type": "markdown",
      "source": [
        "Scraping all admissions and writing information to training file (y1crit.txt)"
      ],
      "metadata": {
        "id": "qP7klbBPmfU7"
      }
    },
    {
      "cell_type": "markdown",
      "source": [
        "Freshmen admission application process"
      ],
      "metadata": {
        "id": "NMDNt1ENnU7k"
      }
    },
    {
      "cell_type": "code",
      "source": [
        "url = 'https://enroll.utdallas.edu/freshman/application-process/'\n",
        "\n",
        "res = ul.request.urlopen(url)\n",
        "text = res.read().decode('UTF-8')\n",
        "soup = BeautifulSoup(text, 'html5lib')\n",
        "\n",
        "ptags = soup.find_all('p')\n",
        "content = ''\n",
        "\n",
        "for line in ptags:\n",
        "    content += (line.get_text() + '\\n')\n",
        "  \n",
        "with open('/gdrive/MyDrive/Colab Notebooks/Data/y1crit.txt','a') as writefile:\n",
        "  writefile.write(content)"
      ],
      "metadata": {
        "id": "jm93klp3mJF8"
      },
      "execution_count": 13,
      "outputs": []
    },
    {
      "cell_type": "markdown",
      "source": [
        "Freshmen Next Steps"
      ],
      "metadata": {
        "id": "ZvenRpOVpZV8"
      }
    },
    {
      "cell_type": "code",
      "source": [
        "url = 'https://enroll.utdallas.edu/freshman/steps-after-admission/'\n",
        "\n",
        "res = ul.request.urlopen(url)\n",
        "text = res.read().decode('UTF-8')\n",
        "soup = BeautifulSoup(text, 'html5lib')\n",
        "\n",
        "ptags = soup.find_all('p')\n",
        "content = ''\n",
        "\n",
        "for line in ptags:\n",
        "    content += (line.get_text() + '\\n')\n",
        "  \n",
        "with open('/gdrive/MyDrive/Colab Notebooks/Data/y1crit.txt','a') as writefile:\n",
        "  writefile.write(content)"
      ],
      "metadata": {
        "id": "OYG2Dk6FpX8j"
      },
      "execution_count": 14,
      "outputs": []
    },
    {
      "cell_type": "markdown",
      "source": [
        "Freshmen Steps After Admission"
      ],
      "metadata": {
        "id": "qnZZIas8qKus"
      }
    },
    {
      "cell_type": "code",
      "source": [
        "url = 'https://enroll.utdallas.edu/freshman/steps-after-admission/'\n",
        "\n",
        "res = ul.request.urlopen(url)\n",
        "text = res.read().decode('UTF-8')\n",
        "soup = BeautifulSoup(text, 'html5lib')\n",
        "\n",
        "ptags = soup.find_all('p')\n",
        "content = ''\n",
        "\n",
        "for line in ptags:\n",
        "    content += (line.get_text() + '\\n')\n",
        "  \n",
        "with open('/gdrive/MyDrive/Colab Notebooks/Data/y1crit.txt','a') as writefile:\n",
        "  writefile.write(content)"
      ],
      "metadata": {
        "id": "1_ertDkqqMrA"
      },
      "execution_count": 19,
      "outputs": []
    },
    {
      "cell_type": "markdown",
      "source": [
        "Transfer Admission Criteria"
      ],
      "metadata": {
        "id": "rplE_tzjpgkZ"
      }
    },
    {
      "cell_type": "code",
      "source": [
        "url = 'https://enroll.utdallas.edu/transfer/criteria/'\n",
        "\n",
        "res = ul.request.urlopen(url)\n",
        "text = res.read().decode('UTF-8')\n",
        "soup = BeautifulSoup(text, 'html5lib')\n",
        "\n",
        "ptags = soup.find_all('p')\n",
        "content = ''\n",
        "\n",
        "for line in ptags:\n",
        "    content += (line.get_text() + '\\n')\n",
        "  \n",
        "with open('/gdrive/MyDrive/Colab Notebooks/Data/y1crit.txt','a') as writefile:\n",
        "  writefile.write(content)"
      ],
      "metadata": {
        "id": "rute1gD3pmTJ"
      },
      "execution_count": 15,
      "outputs": []
    },
    {
      "cell_type": "markdown",
      "source": [
        "Transfer Admissions Application Process"
      ],
      "metadata": {
        "id": "SIjxl6WJprTW"
      }
    },
    {
      "cell_type": "code",
      "source": [
        "url = 'https://enroll.utdallas.edu/transfer/application-process/'\n",
        "\n",
        "res = ul.request.urlopen(url)\n",
        "text = res.read().decode('UTF-8')\n",
        "soup = BeautifulSoup(text, 'html5lib')\n",
        "\n",
        "ptags = soup.find_all('p')\n",
        "content = ''\n",
        "\n",
        "for line in ptags:\n",
        "    content += (line.get_text() + '\\n')\n",
        "  \n",
        "with open('/gdrive/MyDrive/Colab Notebooks/Data/y1crit.txt','a') as writefile:\n",
        "  writefile.write(content)"
      ],
      "metadata": {
        "id": "QsPXC8odpu6D"
      },
      "execution_count": 16,
      "outputs": []
    },
    {
      "cell_type": "markdown",
      "source": [
        "Application Status"
      ],
      "metadata": {
        "id": "X4RdYGxJpz7T"
      }
    },
    {
      "cell_type": "code",
      "source": [
        "url = 'https://www.utdallas.edu/status/'\n",
        "\n",
        "res = ul.request.urlopen(url)\n",
        "text = res.read().decode('UTF-8')\n",
        "soup = BeautifulSoup(text, 'html5lib')\n",
        "\n",
        "ptags = soup.find_all('p')\n",
        "content = ''\n",
        "\n",
        "for line in ptags:\n",
        "    content += (line.get_text() + '\\n')\n",
        "  \n",
        "with open('/gdrive/MyDrive/Colab Notebooks/Data/y1crit.txt','a') as writefile:\n",
        "  writefile.write(content)"
      ],
      "metadata": {
        "id": "aHGHiGCqpzZH"
      },
      "execution_count": 17,
      "outputs": []
    },
    {
      "cell_type": "markdown",
      "source": [
        "Transfer Steps After Admission"
      ],
      "metadata": {
        "id": "dZYlH0_up8S_"
      }
    },
    {
      "cell_type": "code",
      "source": [
        "url = 'https://enroll.utdallas.edu/transfer/steps-after-admission/'\n",
        "\n",
        "res = ul.request.urlopen(url)\n",
        "text = res.read().decode('UTF-8')\n",
        "soup = BeautifulSoup(text, 'html5lib')\n",
        "\n",
        "ptags = soup.find_all('p')\n",
        "content = ''\n",
        "\n",
        "for line in ptags:\n",
        "    content += (line.get_text() + '\\n')\n",
        "  \n",
        "with open('/gdrive/MyDrive/Colab Notebooks/Data/y1crit.txt','a') as writefile:\n",
        "  writefile.write(content)"
      ],
      "metadata": {
        "id": "JWG4LIoRp_1i"
      },
      "execution_count": 18,
      "outputs": []
    },
    {
      "cell_type": "markdown",
      "source": [
        "# Testing langchain"
      ],
      "metadata": {
        "id": "BauZNMPtvbp-"
      }
    },
    {
      "cell_type": "code",
      "source": [
        "!pip install langchain==0.0.89"
      ],
      "metadata": {
        "id": "opp0GJCUjdI8"
      },
      "execution_count": null,
      "outputs": []
    },
    {
      "cell_type": "code",
      "source": [
        "from langchain.llms import OpenAI\n",
        "from langchain.chains.qa_with_sources import load_qa_with_sources_chain\n",
        "from langchain.docstore.document import Document\n",
        "import requests\n",
        "\n",
        "# https://www.utdallas.edu/admissions/"
      ],
      "metadata": {
        "id": "1d4l54PikaxG"
      },
      "execution_count": 6,
      "outputs": []
    },
    {
      "cell_type": "code",
      "source": [
        "!pip install chromadb"
      ],
      "metadata": {
        "id": "OMbCEC3EsuR3"
      },
      "execution_count": null,
      "outputs": []
    },
    {
      "cell_type": "code",
      "source": [
        "from langchain.embeddings.openai import OpenAIEmbeddings\n",
        "from langchain.embeddings.cohere import CohereEmbeddings\n",
        "from langchain.text_splitter import CharacterTextSplitter\n",
        "from langchain.vectorstores.elastic_vector_search import ElasticVectorSearch\n",
        "from langchain.vectorstores.chroma import Chroma\n",
        "#import chromadb as Chroma\n",
        "from langchain.docstore.document import Document\n",
        "from langchain.prompts import PromptTemplate"
      ],
      "metadata": {
        "id": "BtUVS2UQrr6V"
      },
      "execution_count": 7,
      "outputs": []
    },
    {
      "cell_type": "code",
      "source": [
        "with open('/gdrive/MyDrive/Colab Notebooks/Data/y1crit.txt') as f:\n",
        "    fadm_txt = f.read()\n",
        "  \n",
        "text_splitter = CharacterTextSplitter(chunk_size=1000, chunk_overlap=0)\n",
        "texts = text_splitter.split_text(fadm_txt)\n",
        "#print(texts)\n",
        "#texts = text_in.splitlines()\n",
        "#print(len(texts))\n",
        "embeddings = OpenAIEmbeddings()\n",
        "\n",
        "\n",
        "docsearch = Chroma.from_texts(texts, embeddings, metadatas=[{\"source\": str(i)} for i in range(len(texts))])\n",
        "#docsearch = Chroma.from_texts(texts,embeddings)\n",
        "#query = \"How do I apply to UTD\"\n",
        "#doc = docsearch.similarity_search(query)"
      ],
      "metadata": {
        "colab": {
          "base_uri": "https://localhost:8080/",
          "height": 433
        },
        "id": "qJBEmKnMkfZA",
        "outputId": "cd33c06c-c530-4c9a-d3ff-a72f0da47b17"
      },
      "execution_count": null,
      "outputs": [
        {
          "output_type": "stream",
          "name": "stdout",
          "text": [
            "13\n",
            "Running Chroma using direct local API.\n",
            "Using DuckDB in-memory for database. Data will be transient.\n"
          ]
        },
        {
          "output_type": "error",
          "ename": "TypeError",
          "evalue": "ignored",
          "traceback": [
            "\u001b[0;31m---------------------------------------------------------------------------\u001b[0m",
            "\u001b[0;31mTypeError\u001b[0m                                 Traceback (most recent call last)",
            "\u001b[0;32m<ipython-input-32-b7242dc5c1a7>\u001b[0m in \u001b[0;36m<module>\u001b[0;34m\u001b[0m\n\u001b[1;32m     11\u001b[0m \u001b[0;34m\u001b[0m\u001b[0m\n\u001b[1;32m     12\u001b[0m \u001b[0;31m#docsearch = Chroma.from_texts(texts, embeddings, metadatas=[{\"source\": str(i)} for i in range(len(texts))])\u001b[0m\u001b[0;34m\u001b[0m\u001b[0;34m\u001b[0m\u001b[0;34m\u001b[0m\u001b[0m\n\u001b[0;32m---> 13\u001b[0;31m \u001b[0mdocsearch\u001b[0m \u001b[0;34m=\u001b[0m \u001b[0mChroma\u001b[0m\u001b[0;34m.\u001b[0m\u001b[0mfrom_texts\u001b[0m\u001b[0;34m(\u001b[0m\u001b[0mtexts\u001b[0m\u001b[0;34m)\u001b[0m\u001b[0;34m\u001b[0m\u001b[0;34m\u001b[0m\u001b[0m\n\u001b[0m\u001b[1;32m     14\u001b[0m \u001b[0;31m#query = \"How do I apply to UTD\"\u001b[0m\u001b[0;34m\u001b[0m\u001b[0;34m\u001b[0m\u001b[0;34m\u001b[0m\u001b[0m\n\u001b[1;32m     15\u001b[0m \u001b[0;31m#doc = docsearch.similarity_search(query)\u001b[0m\u001b[0;34m\u001b[0m\u001b[0;34m\u001b[0m\u001b[0;34m\u001b[0m\u001b[0m\n",
            "\u001b[0;32m/usr/local/lib/python3.8/dist-packages/langchain/vectorstores/chroma.py\u001b[0m in \u001b[0;36mfrom_texts\u001b[0;34m(cls, texts, embedding, metadatas, ids, collection_name, persist_directory, **kwargs)\u001b[0m\n\u001b[1;32m    176\u001b[0m             \u001b[0mChroma\u001b[0m\u001b[0;34m:\u001b[0m \u001b[0mChroma\u001b[0m \u001b[0mvectorstore\u001b[0m\u001b[0;34m.\u001b[0m\u001b[0;34m\u001b[0m\u001b[0;34m\u001b[0m\u001b[0m\n\u001b[1;32m    177\u001b[0m         \"\"\"\n\u001b[0;32m--> 178\u001b[0;31m         chroma_collection = cls(\n\u001b[0m\u001b[1;32m    179\u001b[0m             \u001b[0mcollection_name\u001b[0m\u001b[0;34m=\u001b[0m\u001b[0mcollection_name\u001b[0m\u001b[0;34m,\u001b[0m\u001b[0;34m\u001b[0m\u001b[0;34m\u001b[0m\u001b[0m\n\u001b[1;32m    180\u001b[0m             \u001b[0membedding_function\u001b[0m\u001b[0;34m=\u001b[0m\u001b[0membedding\u001b[0m\u001b[0;34m,\u001b[0m\u001b[0;34m\u001b[0m\u001b[0;34m\u001b[0m\u001b[0m\n",
            "\u001b[0;32m/usr/local/lib/python3.8/dist-packages/langchain/vectorstores/chroma.py\u001b[0m in \u001b[0;36m__init__\u001b[0;34m(self, collection_name, embedding_function, persist_directory)\u001b[0m\n\u001b[1;32m     50\u001b[0m                 \u001b[0mchroma_db_impl\u001b[0m\u001b[0;34m=\u001b[0m\u001b[0;34m\"duckdb+parquet\"\u001b[0m\u001b[0;34m,\u001b[0m \u001b[0mpersist_directory\u001b[0m\u001b[0;34m=\u001b[0m\u001b[0mpersist_directory\u001b[0m\u001b[0;34m\u001b[0m\u001b[0;34m\u001b[0m\u001b[0m\n\u001b[1;32m     51\u001b[0m             )\n\u001b[0;32m---> 52\u001b[0;31m         \u001b[0mself\u001b[0m\u001b[0;34m.\u001b[0m\u001b[0m_client\u001b[0m \u001b[0;34m=\u001b[0m \u001b[0mchromadb\u001b[0m\u001b[0;34m.\u001b[0m\u001b[0mClient\u001b[0m\u001b[0;34m(\u001b[0m\u001b[0mself\u001b[0m\u001b[0;34m.\u001b[0m\u001b[0m_client_settings\u001b[0m\u001b[0;34m)\u001b[0m\u001b[0;34m\u001b[0m\u001b[0;34m\u001b[0m\u001b[0m\n\u001b[0m\u001b[1;32m     53\u001b[0m         \u001b[0mself\u001b[0m\u001b[0;34m.\u001b[0m\u001b[0m_embedding_function\u001b[0m \u001b[0;34m=\u001b[0m \u001b[0membedding_function\u001b[0m\u001b[0;34m\u001b[0m\u001b[0;34m\u001b[0m\u001b[0m\n\u001b[1;32m     54\u001b[0m         \u001b[0mself\u001b[0m\u001b[0;34m.\u001b[0m\u001b[0m_persist_directory\u001b[0m \u001b[0;34m=\u001b[0m \u001b[0mpersist_directory\u001b[0m\u001b[0;34m\u001b[0m\u001b[0;34m\u001b[0m\u001b[0m\n",
            "\u001b[0;32m/usr/local/lib/python3.8/dist-packages/chromadb/__init__.py\u001b[0m in \u001b[0;36mClient\u001b[0;34m(settings)\u001b[0m\n\u001b[1;32m     66\u001b[0m         \u001b[0;32mimport\u001b[0m \u001b[0mchromadb\u001b[0m\u001b[0;34m.\u001b[0m\u001b[0mapi\u001b[0m\u001b[0;34m.\u001b[0m\u001b[0mlocal\u001b[0m\u001b[0;34m\u001b[0m\u001b[0;34m\u001b[0m\u001b[0m\n\u001b[1;32m     67\u001b[0m \u001b[0;34m\u001b[0m\u001b[0m\n\u001b[0;32m---> 68\u001b[0;31m         \u001b[0;32mreturn\u001b[0m \u001b[0mchromadb\u001b[0m\u001b[0;34m.\u001b[0m\u001b[0mapi\u001b[0m\u001b[0;34m.\u001b[0m\u001b[0mlocal\u001b[0m\u001b[0;34m.\u001b[0m\u001b[0mLocalAPI\u001b[0m\u001b[0;34m(\u001b[0m\u001b[0msettings\u001b[0m\u001b[0;34m,\u001b[0m \u001b[0mget_db\u001b[0m\u001b[0;34m(\u001b[0m\u001b[0msettings\u001b[0m\u001b[0;34m)\u001b[0m\u001b[0;34m)\u001b[0m\u001b[0;34m\u001b[0m\u001b[0;34m\u001b[0m\u001b[0m\n\u001b[0m\u001b[1;32m     69\u001b[0m     \u001b[0;32melse\u001b[0m\u001b[0;34m:\u001b[0m\u001b[0;34m\u001b[0m\u001b[0;34m\u001b[0m\u001b[0m\n\u001b[1;32m     70\u001b[0m         \u001b[0;32mraise\u001b[0m \u001b[0mException\u001b[0m\u001b[0;34m(\u001b[0m\u001b[0;34mf\"Unknown value '{setting} for chroma_api_impl\"\u001b[0m\u001b[0;34m)\u001b[0m\u001b[0;34m\u001b[0m\u001b[0;34m\u001b[0m\u001b[0m\n",
            "\u001b[0;32m/usr/local/lib/python3.8/dist-packages/chromadb/__init__.py\u001b[0m in \u001b[0;36mget_db\u001b[0;34m(settings)\u001b[0m\n\u001b[1;32m     39\u001b[0m         \u001b[0mrequire\u001b[0m\u001b[0;34m(\u001b[0m\u001b[0;34m\"persist_directory\"\u001b[0m\u001b[0;34m)\u001b[0m\u001b[0;34m\u001b[0m\u001b[0;34m\u001b[0m\u001b[0m\n\u001b[1;32m     40\u001b[0m         \u001b[0mprint\u001b[0m\u001b[0;34m(\u001b[0m\u001b[0;34m\"Using DuckDB in-memory for database. Data will be transient.\"\u001b[0m\u001b[0;34m)\u001b[0m\u001b[0;34m\u001b[0m\u001b[0;34m\u001b[0m\u001b[0m\n\u001b[0;32m---> 41\u001b[0;31m         \u001b[0;32mimport\u001b[0m \u001b[0mchromadb\u001b[0m\u001b[0;34m.\u001b[0m\u001b[0mdb\u001b[0m\u001b[0;34m.\u001b[0m\u001b[0mduckdb\u001b[0m\u001b[0;34m\u001b[0m\u001b[0;34m\u001b[0m\u001b[0m\n\u001b[0m\u001b[1;32m     42\u001b[0m \u001b[0;34m\u001b[0m\u001b[0m\n\u001b[1;32m     43\u001b[0m         \u001b[0;32mreturn\u001b[0m \u001b[0mchromadb\u001b[0m\u001b[0;34m.\u001b[0m\u001b[0mdb\u001b[0m\u001b[0;34m.\u001b[0m\u001b[0mduckdb\u001b[0m\u001b[0;34m.\u001b[0m\u001b[0mDuckDB\u001b[0m\u001b[0;34m(\u001b[0m\u001b[0msettings\u001b[0m\u001b[0;34m)\u001b[0m\u001b[0;34m\u001b[0m\u001b[0;34m\u001b[0m\u001b[0m\n",
            "\u001b[0;32m/usr/local/lib/python3.8/dist-packages/chromadb/db/duckdb.py\u001b[0m in \u001b[0;36m<module>\u001b[0;34m\u001b[0m\n\u001b[1;32m      2\u001b[0m \u001b[0;32mfrom\u001b[0m \u001b[0mchromadb\u001b[0m\u001b[0;34m.\u001b[0m\u001b[0mdb\u001b[0m \u001b[0;32mimport\u001b[0m \u001b[0mDB\u001b[0m\u001b[0;34m\u001b[0m\u001b[0;34m\u001b[0m\u001b[0m\n\u001b[1;32m      3\u001b[0m \u001b[0;32mfrom\u001b[0m \u001b[0mchromadb\u001b[0m\u001b[0;34m.\u001b[0m\u001b[0mdb\u001b[0m\u001b[0;34m.\u001b[0m\u001b[0mindex\u001b[0m\u001b[0;34m.\u001b[0m\u001b[0mhnswlib\u001b[0m \u001b[0;32mimport\u001b[0m \u001b[0mHnswlib\u001b[0m\u001b[0;34m\u001b[0m\u001b[0;34m\u001b[0m\u001b[0m\n\u001b[0;32m----> 4\u001b[0;31m from chromadb.db.clickhouse import (\n\u001b[0m\u001b[1;32m      5\u001b[0m     \u001b[0mClickhouse\u001b[0m\u001b[0;34m,\u001b[0m\u001b[0;34m\u001b[0m\u001b[0;34m\u001b[0m\u001b[0m\n\u001b[1;32m      6\u001b[0m     \u001b[0mdb_array_schema_to_clickhouse_schema\u001b[0m\u001b[0;34m,\u001b[0m\u001b[0;34m\u001b[0m\u001b[0;34m\u001b[0m\u001b[0m\n",
            "\u001b[0;32m/usr/local/lib/python3.8/dist-packages/chromadb/db/clickhouse.py\u001b[0m in \u001b[0;36m<module>\u001b[0;34m\u001b[0m\n\u001b[1;32m     35\u001b[0m \u001b[0;34m\u001b[0m\u001b[0m\n\u001b[1;32m     36\u001b[0m \u001b[0;34m\u001b[0m\u001b[0m\n\u001b[0;32m---> 37\u001b[0;31m \u001b[0;32mdef\u001b[0m \u001b[0mdb_schema_to_keys\u001b[0m\u001b[0;34m(\u001b[0m\u001b[0;34m)\u001b[0m \u001b[0;34m->\u001b[0m \u001b[0mlist\u001b[0m\u001b[0;34m[\u001b[0m\u001b[0mstr\u001b[0m\u001b[0;34m]\u001b[0m\u001b[0;34m:\u001b[0m\u001b[0;34m\u001b[0m\u001b[0;34m\u001b[0m\u001b[0m\n\u001b[0m\u001b[1;32m     38\u001b[0m     \u001b[0mkeys\u001b[0m \u001b[0;34m=\u001b[0m \u001b[0;34m[\u001b[0m\u001b[0;34m]\u001b[0m\u001b[0;34m\u001b[0m\u001b[0;34m\u001b[0m\u001b[0m\n\u001b[1;32m     39\u001b[0m     \u001b[0;32mfor\u001b[0m \u001b[0melement\u001b[0m \u001b[0;32min\u001b[0m \u001b[0mEMBEDDING_TABLE_SCHEMA\u001b[0m\u001b[0;34m:\u001b[0m\u001b[0;34m\u001b[0m\u001b[0;34m\u001b[0m\u001b[0m\n",
            "\u001b[0;31mTypeError\u001b[0m: 'type' object is not subscriptable"
          ]
        }
      ]
    },
    {
      "cell_type": "code",
      "source": [
        "with open('/gdrive/MyDrive/Colab Notebooks/Data/y1crit.txt') as f:\n",
        "    text_in = f.read()\n",
        "from langchain import OpenAI\n",
        "from langchain.chains.question_answering import load_qa_chain\n",
        "from langchain.chains import AnalyzeDocumentChain"
      ],
      "metadata": {
        "id": "5Wunv_XzGe3Q"
      },
      "execution_count": 20,
      "outputs": []
    },
    {
      "cell_type": "markdown",
      "source": [
        "Initial tests"
      ],
      "metadata": {
        "id": "o41_gnW3q4Iy"
      }
    },
    {
      "cell_type": "code",
      "source": [
        "llm = OpenAI(temperature=.5)\n",
        "qa_chain = load_qa_chain(llm, chain_type=\"map_reduce\")\n",
        "qa_document_chain = AnalyzeDocumentChain(combine_docs_chain=qa_chain)"
      ],
      "metadata": {
        "id": "SQ19vzAFq_ed"
      },
      "execution_count": 9,
      "outputs": []
    },
    {
      "cell_type": "code",
      "source": [
        "qa_document_chain.run(input_document=text_in, question=\"How to apply to UTD?\")"
      ],
      "metadata": {
        "colab": {
          "base_uri": "https://localhost:8080/",
          "height": 142
        },
        "id": "crgbkgK0GxmF",
        "outputId": "76d8155f-7b80-4682-8278-b1f9dbe4db22"
      },
      "execution_count": null,
      "outputs": [
        {
          "output_type": "stream",
          "name": "stderr",
          "text": [
            "Token indices sequence length is longer than the specified maximum sequence length for this model (1657 > 1024). Running this sequence through the model will result in indexing errors\n"
          ]
        },
        {
          "output_type": "execute_result",
          "data": {
            "text/plain": [
              "' To apply to UTD, applicants must have graduated from high school during one of the two school years preceding the academic year for which they seek admission as first-time freshmen and have not attempted any college-level coursework since graduation from high school. International applicants must meet the criteria for freshman admission and additional steps, such as satisfying the English proficiency requirement. Be sure to review the international applicant’s webpage for a list of additional required materials for a complete application. Contact us or use our counselor locator tool to email your assigned UT Dallas admission counselor directly.'"
            ],
            "application/vnd.google.colaboratory.intrinsic+json": {
              "type": "string"
            }
          },
          "metadata": {},
          "execution_count": 40
        }
      ]
    },
    {
      "cell_type": "code",
      "source": [
        "qa_document_chain.run(input_document=text_in,question=\"Where to contact UTD\")"
      ],
      "metadata": {
        "colab": {
          "base_uri": "https://localhost:8080/",
          "height": 73
        },
        "id": "otue6ePnHiPK",
        "outputId": "d3825c8d-2688-433b-9421-fd72887e60c8"
      },
      "execution_count": null,
      "outputs": [
        {
          "output_type": "stream",
          "name": "stderr",
          "text": [
            "Token indices sequence length is longer than the specified maximum sequence length for this model (1479 > 1024). Running this sequence through the model will result in indexing errors\n"
          ]
        },
        {
          "output_type": "execute_result",
          "data": {
            "text/plain": [
              "' The contact information for UTD is admission@utdallas.edu and 972-883-2270.'"
            ],
            "application/vnd.google.colaboratory.intrinsic+json": {
              "type": "string"
            }
          },
          "metadata": {},
          "execution_count": 38
        }
      ]
    },
    {
      "cell_type": "code",
      "source": [
        "qa_document_chain.run(input_document=text_in,question=\"How to get auto admitted to UTD\")"
      ],
      "metadata": {
        "colab": {
          "base_uri": "https://localhost:8080/",
          "height": 107
        },
        "id": "8DTPHNAHIEvS",
        "outputId": "252f1dbc-9e0e-4004-8153-01f628800d1d"
      },
      "execution_count": null,
      "outputs": [
        {
          "output_type": "stream",
          "name": "stderr",
          "text": [
            "Token indices sequence length is longer than the specified maximum sequence length for this model (1532 > 1024). Running this sequence through the model will result in indexing errors\n"
          ]
        },
        {
          "output_type": "execute_result",
          "data": {
            "text/plain": [
              "' To be automatically admitted to UTD, applicants must have graduated in the top 10% of their class from an accredited Texas high school and successfully earned the Distinguished Level of Achievement. They must have graduated from high school during one of the two school years preceding the academic year for which they seek admission as first-time freshmen and have not attempted any college-level coursework since graduation from high school.'"
            ],
            "application/vnd.google.colaboratory.intrinsic+json": {
              "type": "string"
            }
          },
          "metadata": {},
          "execution_count": 39
        }
      ]
    },
    {
      "cell_type": "markdown",
      "source": [
        "Larger text file test"
      ],
      "metadata": {
        "id": "993_JDaxq5yu"
      }
    },
    {
      "cell_type": "code",
      "source": [
        "qa_document_chain.run(input_document=text_in, question=\"How to apply to UTD?\")"
      ],
      "metadata": {
        "colab": {
          "base_uri": "https://localhost:8080/",
          "height": 198,
          "referenced_widgets": [
            "580ef991cd5f45b38f263077f7b416bf",
            "811360c6e7e9463f93e0859e5b273113",
            "46ba14bc914e4bb097fa46b63bfeac59",
            "e9feed09b7c743f3ac5ce61059b3b9fc",
            "87cd7e4d919941f0b02cce94ca46447e",
            "cd88023ae019417da8f18868ff61c3f7",
            "3f93a71188c0423d97378b9198587077",
            "fe62b2dbe0ab4317966557efaea50d8c",
            "5fbf27db93d24079a3eaf439d97260b1",
            "328301a15d7f4240bb118e0c58617c20",
            "d2daeeeae0474a90850f52f790028986",
            "dcfbbae47cd7438196e931472e40abf5",
            "f2639da4f63a44e29a0849d436384cc0",
            "a809bbddad1e4c419870c3c9c9e83299",
            "aa582409015744c0a603d2a26670593d",
            "c6324c4fcd2f43489d0a2c76399d010d",
            "79c5b0c833c14ca2886a3d38a1ed3e1b",
            "6b7f96315ce44e73abf179d853b5fc1d",
            "1a2e5dba14ba4d65a36ef89dccc69706",
            "4b54995abf504e1fac09ff3e7356745c",
            "722e7ddf241643809f7bb61760455cbf",
            "a36122fa7d324dbba30028f04e8b6cb2",
            "774f348adc204cb9bb2121875153155f",
            "f6aa78e2b30d483fab47f5c24e53db4f",
            "7103571a15f04f8cb2ab8ece33fb7ab8",
            "0cbb82dcea3f4d30abb00c4e3da6dc8c",
            "9eedfc24213d4dedab3e6194b62b27ef",
            "ab04c217c608438a8c04a186ce5f9f1b",
            "bed57d52ed354c52968d6fe204e15871",
            "c2dd47a2acf34ee992de6ba42183420d",
            "f1400bf3a94d41c19bc49b39b191e640",
            "39b6b03187dc443c94a6d4c31838e672",
            "4670e34d44e84173878f71f5fe3b09d1",
            "88756b68cffd4152b5f158c9f66d8c00",
            "7b942186595e43bd976d16f60e19401a",
            "4ebee3ddfd884838a9ac4273426c8fb9",
            "b8310681428c45ed9b5f3b2ee91aff3a",
            "217999740a394b63a3d10b413907d8a1",
            "b14752ece4c943ea9b19202308159e3b",
            "146b2ce0d57949e3b596c4381d3d1f04",
            "b85a7cf69ab34b0b88a4847af2394580",
            "2c02d1330397428e91ca1f61935a8274",
            "75a28b7a8ea343c9808baf61fbca2bc7",
            "666c4cee5cd047ecaad392897dd4d2ef"
          ]
        },
        "id": "Q4M_hvLxq7SK",
        "outputId": "22ad039e-450c-495f-bcb3-282c586d70c6"
      },
      "execution_count": 10,
      "outputs": [
        {
          "output_type": "display_data",
          "data": {
            "text/plain": [
              "Downloading (…)olve/main/vocab.json:   0%|          | 0.00/1.04M [00:00<?, ?B/s]"
            ],
            "application/vnd.jupyter.widget-view+json": {
              "version_major": 2,
              "version_minor": 0,
              "model_id": "580ef991cd5f45b38f263077f7b416bf"
            }
          },
          "metadata": {}
        },
        {
          "output_type": "display_data",
          "data": {
            "text/plain": [
              "Downloading (…)olve/main/merges.txt:   0%|          | 0.00/456k [00:00<?, ?B/s]"
            ],
            "application/vnd.jupyter.widget-view+json": {
              "version_major": 2,
              "version_minor": 0,
              "model_id": "dcfbbae47cd7438196e931472e40abf5"
            }
          },
          "metadata": {}
        },
        {
          "output_type": "display_data",
          "data": {
            "text/plain": [
              "Downloading (…)/main/tokenizer.json:   0%|          | 0.00/1.36M [00:00<?, ?B/s]"
            ],
            "application/vnd.jupyter.widget-view+json": {
              "version_major": 2,
              "version_minor": 0,
              "model_id": "774f348adc204cb9bb2121875153155f"
            }
          },
          "metadata": {}
        },
        {
          "output_type": "display_data",
          "data": {
            "text/plain": [
              "Downloading (…)lve/main/config.json:   0%|          | 0.00/665 [00:00<?, ?B/s]"
            ],
            "application/vnd.jupyter.widget-view+json": {
              "version_major": 2,
              "version_minor": 0,
              "model_id": "88756b68cffd4152b5f158c9f66d8c00"
            }
          },
          "metadata": {}
        },
        {
          "output_type": "stream",
          "name": "stderr",
          "text": [
            "Token indices sequence length is longer than the specified maximum sequence length for this model (2310 > 1024). Running this sequence through the model will result in indexing errors\n"
          ]
        },
        {
          "output_type": "execute_result",
          "data": {
            "text/plain": [
              "' To apply to UTD, complete and submit the online application through ApplyTexas or CommonApp, submit your official SAT or ACT scores, pay the $50 non-refundable application fee, submit your official high school transcript(s) electronically or by mail, submit supplementary documentation through the Orion Applicant Center, and contact us or meet with an admission counselor.'"
            ],
            "application/vnd.google.colaboratory.intrinsic+json": {
              "type": "string"
            }
          },
          "metadata": {},
          "execution_count": 10
        }
      ]
    },
    {
      "cell_type": "code",
      "source": [
        "qa_document_chain.run(input_document=text_in,question=\"What do I do after applying?\")"
      ],
      "metadata": {
        "colab": {
          "base_uri": "https://localhost:8080/",
          "height": 87
        },
        "id": "oAAjxtUrrH87",
        "outputId": "fa574714-fa5b-4a96-b293-24252d8a32b2"
      },
      "execution_count": 11,
      "outputs": [
        {
          "output_type": "stream",
          "name": "stderr",
          "text": [
            "Token indices sequence length is longer than the specified maximum sequence length for this model (2299 > 1024). Running this sequence through the model will result in indexing errors\n"
          ]
        },
        {
          "output_type": "execute_result",
          "data": {
            "text/plain": [
              "' After applying, you will receive an email from the Office of Admission and Enrollment that includes your unique, 10-digit UTD-ID and confirmation that your application has been received. You will then need to submit the non-refundable application fee or fee waiver and complete any pending items on your To-Do List in the Galaxy Applicant Center. You will also need to accept your offer of admission and check your UTD email address regularly. During your Freshman Orientation session, your academic advisor will begin the class registration process with you.'"
            ],
            "application/vnd.google.colaboratory.intrinsic+json": {
              "type": "string"
            }
          },
          "metadata": {},
          "execution_count": 11
        }
      ]
    },
    {
      "cell_type": "code",
      "source": [
        "qa_document_chain.run(input_document=text_in,question=\"Where can I apply for financial aid?\")"
      ],
      "metadata": {
        "colab": {
          "base_uri": "https://localhost:8080/",
          "height": 53
        },
        "id": "0V9C93Irrnbi",
        "outputId": "517b42c5-ef87-4a8a-800a-468350d7dbc1"
      },
      "execution_count": 12,
      "outputs": [
        {
          "output_type": "stream",
          "name": "stderr",
          "text": [
            "Token indices sequence length is longer than the specified maximum sequence length for this model (1461 > 1024). Running this sequence through the model will result in indexing errors\n"
          ]
        },
        {
          "output_type": "execute_result",
          "data": {
            "text/plain": [
              "\" I don't know.\""
            ],
            "application/vnd.google.colaboratory.intrinsic+json": {
              "type": "string"
            }
          },
          "metadata": {},
          "execution_count": 12
        }
      ]
    },
    {
      "cell_type": "markdown",
      "source": [
        "Scraping cost and registar FAQ"
      ],
      "metadata": {
        "id": "iLZjdi4Lr97F"
      }
    },
    {
      "cell_type": "code",
      "source": [
        "url = 'https://www.utdallas.edu/costs-scholarships-aid/faq/'\n",
        "\n",
        "res = ul.request.urlopen(url)\n",
        "text = res.read().decode('UTF-8')\n",
        "soup = BeautifulSoup(text, 'html5lib')\n",
        "\n",
        "ptags = soup.find_all('p')\n",
        "content = ''\n",
        "\n",
        "for line in ptags:\n",
        "    content += (line.get_text() + '\\n')\n",
        "  \n",
        "with open('/gdrive/MyDrive/Colab Notebooks/Data/y1crit.txt','a') as writefile:\n",
        "  writefile.write(content)"
      ],
      "metadata": {
        "id": "psu7N5dnsCWj"
      },
      "execution_count": 15,
      "outputs": []
    },
    {
      "cell_type": "code",
      "source": [
        "url = 'https://registrar.utdallas.edu/faq/'\n",
        "\n",
        "res = ul.request.urlopen(url)\n",
        "text = res.read().decode('UTF-8')\n",
        "soup = BeautifulSoup(text, 'html5lib')\n",
        "\n",
        "ptags = soup.find_all('p')\n",
        "content = ''\n",
        "\n",
        "for line in ptags:\n",
        "    content += (line.get_text() + '\\n')\n",
        "  \n",
        "with open('/gdrive/MyDrive/Colab Notebooks/Data/y1crit.txt','a') as writefile:\n",
        "  writefile.write(content)"
      ],
      "metadata": {
        "id": "EqUfBm0ksQkN"
      },
      "execution_count": 16,
      "outputs": []
    },
    {
      "cell_type": "markdown",
      "source": [
        "Asking about financial aid again"
      ],
      "metadata": {
        "id": "H9voKDXUsWUE"
      }
    },
    {
      "cell_type": "code",
      "source": [
        "llm = OpenAI(temperature=.5)\n",
        "qa_chain = load_qa_chain(llm, chain_type=\"map_reduce\")\n",
        "qa_document_chain = AnalyzeDocumentChain(combine_docs_chain=qa_chain)"
      ],
      "metadata": {
        "id": "0CzDg-VHtC8o"
      },
      "execution_count": 21,
      "outputs": []
    },
    {
      "cell_type": "code",
      "source": [
        "qa_document_chain.run(input_document=text_in,question=\"Where can I apply for financial aid?\")"
      ],
      "metadata": {
        "colab": {
          "base_uri": "https://localhost:8080/",
          "height": 87
        },
        "id": "s-vNqPyvsV_x",
        "outputId": "b724e6c0-6fba-4c81-8275-5d8b094b90e8"
      },
      "execution_count": 22,
      "outputs": [
        {
          "output_type": "stream",
          "name": "stderr",
          "text": [
            "Token indices sequence length is longer than the specified maximum sequence length for this model (1831 > 1024). Running this sequence through the model will result in indexing errors\n"
          ]
        },
        {
          "output_type": "execute_result",
          "data": {
            "text/plain": [
              "' You may apply for financial aid via the Free Application for Federal Student Aid (FAFSA) or the Texas Application for State Financial Aid (TASFA) as early as October 1 for the subsequent academic year; however, we cannot process your application until you are officially admitted to UT Dallas. More information regarding financial aid FAQs and FAQs specific to veteran benefits are also available on the Office of Financial Aid website.'"
            ],
            "application/vnd.google.colaboratory.intrinsic+json": {
              "type": "string"
            }
          },
          "metadata": {},
          "execution_count": 22
        }
      ]
    },
    {
      "cell_type": "code",
      "source": [
        "qa_document_chain.run(input_document=text_in,question=\"Do I need to do FASFA every year?\")"
      ],
      "metadata": {
        "colab": {
          "base_uri": "https://localhost:8080/",
          "height": 53
        },
        "id": "85CqsE8mtgDt",
        "outputId": "ee8aa9c8-e089-4cba-c45a-6dd33103eea2"
      },
      "execution_count": 24,
      "outputs": [
        {
          "output_type": "stream",
          "name": "stderr",
          "text": [
            "Token indices sequence length is longer than the specified maximum sequence length for this model (1777 > 1024). Running this sequence through the model will result in indexing errors\n"
          ]
        },
        {
          "output_type": "execute_result",
          "data": {
            "text/plain": [
              "' Yes, you need to do FASFA every year.'"
            ],
            "application/vnd.google.colaboratory.intrinsic+json": {
              "type": "string"
            }
          },
          "metadata": {},
          "execution_count": 24
        }
      ]
    },
    {
      "cell_type": "code",
      "source": [
        "qa_document_chain.run(input_document=text_in,question=\"How can I change my major?\")"
      ],
      "metadata": {
        "colab": {
          "base_uri": "https://localhost:8080/",
          "height": 53
        },
        "id": "rQdGyirzuIeA",
        "outputId": "98ec0f79-4e5e-44bd-ec0c-973c5a16f34e"
      },
      "execution_count": 25,
      "outputs": [
        {
          "output_type": "stream",
          "name": "stderr",
          "text": [
            "Token indices sequence length is longer than the specified maximum sequence length for this model (1679 > 1024). Running this sequence through the model will result in indexing errors\n"
          ]
        },
        {
          "output_type": "execute_result",
          "data": {
            "text/plain": [
              "' Eligible students wishing to change their major/plan/program should review the policy listed in the Academic Catalog.'"
            ],
            "application/vnd.google.colaboratory.intrinsic+json": {
              "type": "string"
            }
          },
          "metadata": {},
          "execution_count": 25
        }
      ]
    }
  ]
}